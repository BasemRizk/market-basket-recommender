{
 "cells": [
  {
   "cell_type": "code",
   "execution_count": 1,
   "id": "26560742",
   "metadata": {},
   "outputs": [],
   "source": [
    "import pandas as pd\n",
    "import numpy as np\n",
    "from mlxtend.frequent_patterns import apriori\n",
    "from mlxtend.frequent_patterns import association_rules"
   ]
  },
  {
   "cell_type": "code",
   "execution_count": 2,
   "id": "6cac0419",
   "metadata": {},
   "outputs": [],
   "source": [
    "import warnings\n",
    "\n",
    "# ignore all warnings\n",
    "warnings.filterwarnings(\"ignore\")\n",
    "\n",
    "# code that may trigger a warning"
   ]
  },
  {
   "cell_type": "code",
   "execution_count": 3,
   "id": "596a805d",
   "metadata": {},
   "outputs": [],
   "source": [
    "df=pd.read_csv('data.csv', encoding= 'unicode_escape')"
   ]
  },
  {
   "cell_type": "code",
   "execution_count": 4,
   "id": "87febfcc",
   "metadata": {},
   "outputs": [],
   "source": [
    "df['Description']=df['Description'].str.strip()\n",
    "df.dropna(axis=0,subset=['InvoiceNo'],inplace=True)\n",
    "df['InvoiceNo']=df['InvoiceNo'].astype('str')\n",
    "df=df[~df['InvoiceNo'].str.contains('C')]"
   ]
  },
  {
   "cell_type": "code",
   "execution_count": 5,
   "id": "eaa33750-78ca-4422-a1ef-32e7dda5a6a8",
   "metadata": {},
   "outputs": [
    {
     "data": {
      "text/plain": [
       "United Kingdom          487622\n",
       "Germany                   9042\n",
       "France                    8408\n",
       "EIRE                      7894\n",
       "Spain                     2485\n",
       "Netherlands               2363\n",
       "Belgium                   2031\n",
       "Switzerland               1967\n",
       "Portugal                  1501\n",
       "Australia                 1185\n",
       "Norway                    1072\n",
       "Italy                      758\n",
       "Channel Islands            748\n",
       "Finland                    685\n",
       "Cyprus                     614\n",
       "Sweden                     451\n",
       "Unspecified                446\n",
       "Austria                    398\n",
       "Denmark                    380\n",
       "Poland                     330\n",
       "Japan                      321\n",
       "Israel                     295\n",
       "Hong Kong                  284\n",
       "Singapore                  222\n",
       "Iceland                    182\n",
       "USA                        179\n",
       "Canada                     151\n",
       "Greece                     145\n",
       "Malta                      112\n",
       "United Arab Emirates        68\n",
       "European Community          60\n",
       "RSA                         58\n",
       "Lebanon                     45\n",
       "Lithuania                   35\n",
       "Brazil                      32\n",
       "Czech Republic              25\n",
       "Bahrain                     18\n",
       "Saudi Arabia                 9\n",
       "Name: Country, dtype: int64"
      ]
     },
     "execution_count": 5,
     "metadata": {},
     "output_type": "execute_result"
    }
   ],
   "source": [
    "df['Country'].value_counts()"
   ]
  },
  {
   "cell_type": "code",
   "execution_count": 15,
   "id": "81801c2e",
   "metadata": {},
   "outputs": [],
   "source": [
    "invoices=(df[df['Country']=='Poland']\n",
    "          .groupby(['InvoiceNo','Description'])['Quantity']\n",
    "          .sum().unstack().reset_index().fillna(0)\n",
    "          .set_index('InvoiceNo'))"
   ]
  },
  {
   "cell_type": "code",
   "execution_count": 16,
   "id": "7d0d0244",
   "metadata": {},
   "outputs": [],
   "source": [
    "def my_encode_units(x):\n",
    "    if x <=0:\n",
    "        return 0\n",
    "    else:\n",
    "        return 1\n",
    "invoices_sets=invoices.applymap(my_encode_units)"
   ]
  },
  {
   "cell_type": "code",
   "execution_count": 17,
   "id": "1806a152",
   "metadata": {},
   "outputs": [],
   "source": [
    "try:\n",
    "    invoices_sets.drop('POSTAGE', inplace=True, axis=1)\n",
    "except Exception as e:\n",
    "    pass"
   ]
  },
  {
   "cell_type": "code",
   "execution_count": 18,
   "id": "b879aad0",
   "metadata": {},
   "outputs": [],
   "source": [
    "model=apriori(invoices_sets,min_support=0.07,use_colnames=True)"
   ]
  },
  {
   "cell_type": "code",
   "execution_count": null,
   "id": "020966a7",
   "metadata": {},
   "outputs": [],
   "source": [
    "my_rules=association_rules(model,metric='lift',min_threshold=1)"
   ]
  },
  {
   "cell_type": "code",
   "execution_count": null,
   "id": "f9515dd3",
   "metadata": {},
   "outputs": [],
   "source": [
    "x=my_rules[(my_rules['lift']>=3)&\n",
    "          (my_rules['confidence']>=0.5)]"
   ]
  },
  {
   "cell_type": "code",
   "execution_count": null,
   "id": "12bbba36",
   "metadata": {},
   "outputs": [],
   "source": [
    "x['antecedents'] = x['antecedents'].map(lambda x: list(x))\n",
    "x['antecedents'] = x['antecedents'].map(lambda x: x[0])\n",
    "x['consequents'] = x['consequents'].map(lambda x: list(x))\n",
    "x['consequents'] = x['consequents'].map(lambda x: x[0])\n",
    "x=x.drop_duplicates(subset=['antecedents','consequents'],keep='last')"
   ]
  },
  {
   "cell_type": "code",
   "execution_count": null,
   "id": "afd7e389",
   "metadata": {},
   "outputs": [],
   "source": [
    "def find_combos(item):\n",
    "    res=x[x['antecedents']==item].reset_index()\n",
    "    return res[['consequents','confidence','lift','support']]"
   ]
  },
  {
   "cell_type": "code",
   "execution_count": null,
   "id": "b9904612",
   "metadata": {},
   "outputs": [],
   "source": [
    "find_combos('PLASTERS IN TIN CIRCUS PARADE')\n"
   ]
  },
  {
   "cell_type": "code",
   "execution_count": null,
   "id": "ba0ffc2b",
   "metadata": {},
   "outputs": [],
   "source": [
    "x"
   ]
  },
  {
   "cell_type": "code",
   "execution_count": null,
   "id": "c86d808d",
   "metadata": {},
   "outputs": [],
   "source": []
  },
  {
   "cell_type": "code",
   "execution_count": null,
   "id": "fbffe876-186f-4c82-a3de-7c92e6e2a20e",
   "metadata": {},
   "outputs": [],
   "source": []
  }
 ],
 "metadata": {
  "kernelspec": {
   "display_name": "Python 3 (ipykernel)",
   "language": "python",
   "name": "python3"
  },
  "language_info": {
   "codemirror_mode": {
    "name": "ipython",
    "version": 3
   },
   "file_extension": ".py",
   "mimetype": "text/x-python",
   "name": "python",
   "nbconvert_exporter": "python",
   "pygments_lexer": "ipython3",
   "version": "3.10.9"
  }
 },
 "nbformat": 4,
 "nbformat_minor": 5
}
