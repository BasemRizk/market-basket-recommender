{
 "cells": [
  {
   "cell_type": "code",
   "execution_count": 5,
   "id": "648e1c46-4f91-4bd4-b1d5-41621b03a38e",
   "metadata": {},
   "outputs": [],
   "source": [
    "from basket_analysis import *\n",
    "x=find_combos('PLASTERS IN TIN CIRCUS PARADE')"
   ]
  },
  {
   "cell_type": "code",
   "execution_count": 6,
   "id": "0b4b6c97-de20-4f70-b80a-61f4b56d5d0d",
   "metadata": {},
   "outputs": [
    {
     "name": "stdout",
     "output_type": "stream",
     "text": [
      "PLASTERS IN TIN SPACEBOY\n",
      "PLASTERS IN TIN WOODLAND ANIMALS\n"
     ]
    }
   ],
   "source": [
    "for a in x['consequents']:\n",
    "    print(a)"
   ]
  },
  {
   "cell_type": "code",
   "execution_count": 10,
   "id": "4e9772c4-0ce8-4c22-8d00-662d4f2aaf9b",
   "metadata": {},
   "outputs": [],
   "source": [
    "data=get_items()\n"
   ]
  },
  {
   "cell_type": "code",
   "execution_count": 11,
   "id": "272600f0-fe93-477e-b093-6c7107b0c5fb",
   "metadata": {},
   "outputs": [
    {
     "data": {
      "text/plain": [
       "['ALARM CLOCK BAKELIKE PINK',\n",
       " 'ALARM CLOCK BAKELIKE GREEN',\n",
       " 'ALARM CLOCK BAKELIKE RED',\n",
       " 'DOLLY GIRL LUNCH BOX',\n",
       " 'SPACEBOY LUNCH BOX',\n",
       " 'PLASTERS IN TIN CIRCUS PARADE',\n",
       " 'PLASTERS IN TIN SPACEBOY',\n",
       " 'PLASTERS IN TIN WOODLAND ANIMALS',\n",
       " 'SET/6 RED SPOTTY PAPER CUPS',\n",
       " 'SET/20 RED RETROSPOT PAPER NAPKINS',\n",
       " 'SET/6 RED SPOTTY PAPER PLATES']"
      ]
     },
     "execution_count": 11,
     "metadata": {},
     "output_type": "execute_result"
    }
   ],
   "source": [
    "data"
   ]
  },
  {
   "cell_type": "code",
   "execution_count": null,
   "id": "126aec3d-ea7c-49ab-903c-b0bb7c99e422",
   "metadata": {},
   "outputs": [],
   "source": []
  }
 ],
 "metadata": {
  "kernelspec": {
   "display_name": "Python 3 (ipykernel)",
   "language": "python",
   "name": "python3"
  },
  "language_info": {
   "codemirror_mode": {
    "name": "ipython",
    "version": 3
   },
   "file_extension": ".py",
   "mimetype": "text/x-python",
   "name": "python",
   "nbconvert_exporter": "python",
   "pygments_lexer": "ipython3",
   "version": "3.10.9"
  }
 },
 "nbformat": 4,
 "nbformat_minor": 5
}
